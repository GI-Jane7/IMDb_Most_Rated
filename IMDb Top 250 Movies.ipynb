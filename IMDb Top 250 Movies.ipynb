{
 "cells": [
  {
   "cell_type": "code",
   "execution_count": 17,
   "id": "775d66f0",
   "metadata": {},
   "outputs": [],
   "source": [
    "import requests\n",
    "from bs4 import BeautifulSoup\n",
    "import pandas as pd"
   ]
  },
  {
   "cell_type": "code",
   "execution_count": 38,
   "id": "4bceeae1",
   "metadata": {},
   "outputs": [],
   "source": [
    "url = \"https://www.imdb.com/chart/top/\"\n",
    "headers = ({\"User-Agent\" : \"Mozilla/5.0 (Windows NT 10.0; Win64; x64) AppleWebKit/537.36 (KHTML, like Gecko) Chrome/124.0.0.0 Safari/537.36\"})\n",
    "response = requests.get(url, headers=headers)\n",
    "soup = BeautifulSoup(response.text, 'html.parser')"
   ]
  },
  {
   "cell_type": "code",
   "execution_count": 60,
   "id": "02897a19",
   "metadata": {},
   "outputs": [],
   "source": [
    "movies = soup.find_all('div', class_=\"ipc-title ipc-title--base ipc-title--title ipc-title-link-no-icon ipc-title--on-textPrimary sc-b189961a-9 iALATN cli-title\")"
   ]
  },
  {
   "cell_type": "code",
   "execution_count": 46,
   "id": "71fe6f07",
   "metadata": {},
   "outputs": [],
   "source": [
    "year = soup.find_all('div', class_=\"sc-b189961a-7 feoqjK cli-title-metadata\")"
   ]
  },
  {
   "cell_type": "code",
   "execution_count": 61,
   "id": "6578cb98",
   "metadata": {},
   "outputs": [],
   "source": [
    "rating = soup.find_all('span', class_=\"ipc-rating-star ipc-rating-star--base ipc-rating-star--imdb ratingGroup--imdb-rating\")"
   ]
  },
  {
   "cell_type": "code",
   "execution_count": null,
   "id": "1f8b0b1d",
   "metadata": {},
   "outputs": [],
   "source": [
    "Name = []\n",
    "Release_year = []\n",
    "Rating = []\n",
    "Total_Rating = []\n",
    "Duration = []\n",
    "    \n",
    "for i in range(0, len(movies)):\n",
    "    name = movies[i].text.split('. ')[1]\n",
    "    ratings = rating[i].text.strip().replace(')', '').split('\\xa0(')\n",
    "    if len(year[i].text) > 3:\n",
    "        yr = year[i].text[:4]\n",
    "        if 'h' in year[i].text[4:]:\n",
    "            h = year[i].text[4:].split('h')[0]\n",
    "            if 'm' in year[i].text[4:].split('h')[1]:\n",
    "                m = year[i].text[4:].split('h')[1].split('m')[0]\n",
    "            else:\n",
    "                m = ''\n",
    "        else:\n",
    "            h =''\n",
    "            m =''\n",
    "    else:\n",
    "        y = ''\n",
    "        h = ''\n",
    "        m = ''\n",
    "        \n",
    "    h_m = h + ' h' + m +' m'\n",
    "    \n",
    "    Name.append(name)\n",
    "    Release_year.append(yr)\n",
    "    Rating.append(ratings[0])\n",
    "    Total_Rating.append(ratings[1])\n",
    "    Duration.append(h_m)\n",
    "    \n",
    "    \n",
    "    "
   ]
  },
  {
   "cell_type": "code",
   "execution_count": 69,
   "id": "6498f847",
   "metadata": {},
   "outputs": [],
   "source": [
    "df = pd.DataFrame()"
   ]
  },
  {
   "cell_type": "code",
   "execution_count": 70,
   "id": "6d898911",
   "metadata": {},
   "outputs": [],
   "source": [
    "df['Name'] = Name\n",
    "df['Release_year'] = Release_year\n",
    "df['Rating'] = Rating\n",
    "df['Total_Rating'] = Total_Rating\n",
    "df['Duration'] = Duration"
   ]
  },
  {
   "cell_type": "code",
   "execution_count": 71,
   "id": "43a5663b",
   "metadata": {},
   "outputs": [
    {
     "data": {
      "text/html": [
       "<div>\n",
       "<style scoped>\n",
       "    .dataframe tbody tr th:only-of-type {\n",
       "        vertical-align: middle;\n",
       "    }\n",
       "\n",
       "    .dataframe tbody tr th {\n",
       "        vertical-align: top;\n",
       "    }\n",
       "\n",
       "    .dataframe thead th {\n",
       "        text-align: right;\n",
       "    }\n",
       "</style>\n",
       "<table border=\"1\" class=\"dataframe\">\n",
       "  <thead>\n",
       "    <tr style=\"text-align: right;\">\n",
       "      <th></th>\n",
       "      <th>Name</th>\n",
       "      <th>Release_year</th>\n",
       "      <th>Rating</th>\n",
       "      <th>Total_Rating</th>\n",
       "      <th>Duration</th>\n",
       "    </tr>\n",
       "  </thead>\n",
       "  <tbody>\n",
       "    <tr>\n",
       "      <th>0</th>\n",
       "      <td>The Shawshank Redemption</td>\n",
       "      <td>1994</td>\n",
       "      <td>9.3</td>\n",
       "      <td>2.9M</td>\n",
       "      <td>2 h 22 m</td>\n",
       "    </tr>\n",
       "    <tr>\n",
       "      <th>1</th>\n",
       "      <td>The Godfather</td>\n",
       "      <td>1972</td>\n",
       "      <td>9.2</td>\n",
       "      <td>2M</td>\n",
       "      <td>2 h 55 m</td>\n",
       "    </tr>\n",
       "    <tr>\n",
       "      <th>2</th>\n",
       "      <td>The Dark Knight</td>\n",
       "      <td>2008</td>\n",
       "      <td>9.0</td>\n",
       "      <td>2.9M</td>\n",
       "      <td>2 h 32 m</td>\n",
       "    </tr>\n",
       "    <tr>\n",
       "      <th>3</th>\n",
       "      <td>The Godfather Part II</td>\n",
       "      <td>1974</td>\n",
       "      <td>9.0</td>\n",
       "      <td>1.4M</td>\n",
       "      <td>3 h 22 m</td>\n",
       "    </tr>\n",
       "    <tr>\n",
       "      <th>4</th>\n",
       "      <td>12 Angry Men</td>\n",
       "      <td>1957</td>\n",
       "      <td>9.0</td>\n",
       "      <td>868K</td>\n",
       "      <td>1 h 36 m</td>\n",
       "    </tr>\n",
       "    <tr>\n",
       "      <th>...</th>\n",
       "      <td>...</td>\n",
       "      <td>...</td>\n",
       "      <td>...</td>\n",
       "      <td>...</td>\n",
       "      <td>...</td>\n",
       "    </tr>\n",
       "    <tr>\n",
       "      <th>245</th>\n",
       "      <td>It Happened One Night</td>\n",
       "      <td>1934</td>\n",
       "      <td>8.1</td>\n",
       "      <td>113K</td>\n",
       "      <td>1 h 45 m</td>\n",
       "    </tr>\n",
       "    <tr>\n",
       "      <th>246</th>\n",
       "      <td>Dances with Wolves</td>\n",
       "      <td>1990</td>\n",
       "      <td>8.0</td>\n",
       "      <td>292K</td>\n",
       "      <td>3 h 1 m</td>\n",
       "    </tr>\n",
       "    <tr>\n",
       "      <th>247</th>\n",
       "      <td>Aladdin</td>\n",
       "      <td>1992</td>\n",
       "      <td>8.0</td>\n",
       "      <td>468K</td>\n",
       "      <td>1 h 30 m</td>\n",
       "    </tr>\n",
       "    <tr>\n",
       "      <th>248</th>\n",
       "      <td>Drishyam</td>\n",
       "      <td>2015</td>\n",
       "      <td>8.2</td>\n",
       "      <td>95K</td>\n",
       "      <td>2 h 43 m</td>\n",
       "    </tr>\n",
       "    <tr>\n",
       "      <th>249</th>\n",
       "      <td>Kill Bill: Vol</td>\n",
       "      <td>2004</td>\n",
       "      <td>8.0</td>\n",
       "      <td>808K</td>\n",
       "      <td>2 h 17 m</td>\n",
       "    </tr>\n",
       "  </tbody>\n",
       "</table>\n",
       "<p>250 rows × 5 columns</p>\n",
       "</div>"
      ],
      "text/plain": [
       "                         Name Release_year Rating Total_Rating  Duration\n",
       "0    The Shawshank Redemption         1994    9.3         2.9M  2 h 22 m\n",
       "1               The Godfather         1972    9.2           2M  2 h 55 m\n",
       "2             The Dark Knight         2008    9.0         2.9M  2 h 32 m\n",
       "3       The Godfather Part II         1974    9.0         1.4M  3 h 22 m\n",
       "4                12 Angry Men         1957    9.0         868K  1 h 36 m\n",
       "..                        ...          ...    ...          ...       ...\n",
       "245     It Happened One Night         1934    8.1         113K  1 h 45 m\n",
       "246        Dances with Wolves         1990    8.0         292K   3 h 1 m\n",
       "247                   Aladdin         1992    8.0         468K  1 h 30 m\n",
       "248                  Drishyam         2015    8.2          95K  2 h 43 m\n",
       "249            Kill Bill: Vol         2004    8.0         808K  2 h 17 m\n",
       "\n",
       "[250 rows x 5 columns]"
      ]
     },
     "execution_count": 71,
     "metadata": {},
     "output_type": "execute_result"
    }
   ],
   "source": [
    "df"
   ]
  },
  {
   "cell_type": "code",
   "execution_count": 72,
   "id": "9732f4f3",
   "metadata": {},
   "outputs": [],
   "source": [
    "df.to_csv(\"IMDbTop250Movies.csv\", index=False)"
   ]
  },
  {
   "cell_type": "code",
   "execution_count": null,
   "id": "12f587c1",
   "metadata": {},
   "outputs": [],
   "source": []
  }
 ],
 "metadata": {
  "kernelspec": {
   "display_name": "Python 3 (ipykernel)",
   "language": "python",
   "name": "python3"
  },
  "language_info": {
   "codemirror_mode": {
    "name": "ipython",
    "version": 3
   },
   "file_extension": ".py",
   "mimetype": "text/x-python",
   "name": "python",
   "nbconvert_exporter": "python",
   "pygments_lexer": "ipython3",
   "version": "3.11.5"
  }
 },
 "nbformat": 4,
 "nbformat_minor": 5
}
